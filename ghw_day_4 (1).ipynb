{
  "nbformat": 4,
  "nbformat_minor": 0,
  "metadata": {
    "colab": {
      "name": "ghw day 4.ipynb",
      "provenance": [],
      "collapsed_sections": []
    },
    "kernelspec": {
      "name": "python3",
      "display_name": "Python 3"
    },
    "language_info": {
      "name": "python"
    }
  },
  "cells": [
    {
      "cell_type": "code",
      "execution_count": 63,
      "metadata": {
        "colab": {
          "base_uri": "https://localhost:8080/",
          "height": 623
        },
        "id": "yqKyHAMqLTgT",
        "outputId": "8380c570-6c48-440b-ed2f-70d227f2bbac"
      },
      "outputs": [
        {
          "output_type": "stream",
          "name": "stdout",
          "text": [
            "Looking in indexes: https://pypi.org/simple, https://us-python.pkg.dev/colab-wheels/public/simple/\n",
            "Requirement already satisfied: gdown in /usr/local/lib/python3.7/dist-packages (4.4.0)\n",
            "Requirement already satisfied: tqdm in /usr/local/lib/python3.7/dist-packages (from gdown) (4.64.0)\n",
            "Requirement already satisfied: beautifulsoup4 in /usr/local/lib/python3.7/dist-packages (from gdown) (4.6.3)\n",
            "Requirement already satisfied: six in /usr/local/lib/python3.7/dist-packages (from gdown) (1.15.0)\n",
            "Requirement already satisfied: requests[socks] in /usr/local/lib/python3.7/dist-packages (from gdown) (2.23.0)\n",
            "Requirement already satisfied: filelock in /usr/local/lib/python3.7/dist-packages (from gdown) (3.7.1)\n",
            "Requirement already satisfied: certifi>=2017.4.17 in /usr/local/lib/python3.7/dist-packages (from requests[socks]->gdown) (2022.6.15)\n",
            "Requirement already satisfied: idna<3,>=2.5 in /usr/local/lib/python3.7/dist-packages (from requests[socks]->gdown) (2.10)\n",
            "Requirement already satisfied: chardet<4,>=3.0.2 in /usr/local/lib/python3.7/dist-packages (from requests[socks]->gdown) (3.0.4)\n",
            "Requirement already satisfied: urllib3!=1.25.0,!=1.25.1,<1.26,>=1.21.1 in /usr/local/lib/python3.7/dist-packages (from requests[socks]->gdown) (1.24.3)\n",
            "Requirement already satisfied: PySocks!=1.5.7,>=1.5.6 in /usr/local/lib/python3.7/dist-packages (from requests[socks]->gdown) (1.7.1)\n"
          ]
        },
        {
          "output_type": "stream",
          "name": "stderr",
          "text": [
            "Downloading...\n",
            "From: https://drive.google.com/uc?id=1-WZKE5xHw-3m_SL_PtOgwkzdFROIWqih\n",
            "To: /content/reviews.csv\n",
            "100%|██████████| 301M/301M [00:01<00:00, 240MB/s]\n"
          ]
        },
        {
          "output_type": "execute_result",
          "data": {
            "text/plain": [
              "   Id   ProductId          UserId                      ProfileName  \\\n",
              "0   1  B001E4KFG0  A3SGXH7AUHU8GW                       delmartian   \n",
              "1   2  B00813GRG4  A1D87F6ZCVE5NK                           dll pa   \n",
              "2   3  B000LQOCH0   ABXLMWJIXXAIN  Natalia Corres \"Natalia Corres\"   \n",
              "3   4  B000UA0QIQ  A395BORC6FGVXV                             Karl   \n",
              "4   5  B006K2ZZ7K  A1UQRSCLF8GW1T    Michael D. Bigham \"M. Wassir\"   \n",
              "\n",
              "   HelpfulnessNumerator  HelpfulnessDenominator  Score        Time  \\\n",
              "0                     1                       1      5  1303862400   \n",
              "1                     0                       0      1  1346976000   \n",
              "2                     1                       1      4  1219017600   \n",
              "3                     3                       3      2  1307923200   \n",
              "4                     0                       0      5  1350777600   \n",
              "\n",
              "                 Summary                                               Text  \n",
              "0  Good Quality Dog Food  I have bought several of the Vitality canned d...  \n",
              "1      Not as Advertised  Product arrived labeled as Jumbo Salted Peanut...  \n",
              "2  \"Delight\" says it all  This is a confection that has been around a fe...  \n",
              "3         Cough Medicine  If you are looking for the secret ingredient i...  \n",
              "4            Great taffy  Great taffy at a great price.  There was a wid...  "
            ],
            "text/html": [
              "\n",
              "  <div id=\"df-b76dd623-48f3-485f-ae81-c47f3b1e4091\">\n",
              "    <div class=\"colab-df-container\">\n",
              "      <div>\n",
              "<style scoped>\n",
              "    .dataframe tbody tr th:only-of-type {\n",
              "        vertical-align: middle;\n",
              "    }\n",
              "\n",
              "    .dataframe tbody tr th {\n",
              "        vertical-align: top;\n",
              "    }\n",
              "\n",
              "    .dataframe thead th {\n",
              "        text-align: right;\n",
              "    }\n",
              "</style>\n",
              "<table border=\"1\" class=\"dataframe\">\n",
              "  <thead>\n",
              "    <tr style=\"text-align: right;\">\n",
              "      <th></th>\n",
              "      <th>Id</th>\n",
              "      <th>ProductId</th>\n",
              "      <th>UserId</th>\n",
              "      <th>ProfileName</th>\n",
              "      <th>HelpfulnessNumerator</th>\n",
              "      <th>HelpfulnessDenominator</th>\n",
              "      <th>Score</th>\n",
              "      <th>Time</th>\n",
              "      <th>Summary</th>\n",
              "      <th>Text</th>\n",
              "    </tr>\n",
              "  </thead>\n",
              "  <tbody>\n",
              "    <tr>\n",
              "      <th>0</th>\n",
              "      <td>1</td>\n",
              "      <td>B001E4KFG0</td>\n",
              "      <td>A3SGXH7AUHU8GW</td>\n",
              "      <td>delmartian</td>\n",
              "      <td>1</td>\n",
              "      <td>1</td>\n",
              "      <td>5</td>\n",
              "      <td>1303862400</td>\n",
              "      <td>Good Quality Dog Food</td>\n",
              "      <td>I have bought several of the Vitality canned d...</td>\n",
              "    </tr>\n",
              "    <tr>\n",
              "      <th>1</th>\n",
              "      <td>2</td>\n",
              "      <td>B00813GRG4</td>\n",
              "      <td>A1D87F6ZCVE5NK</td>\n",
              "      <td>dll pa</td>\n",
              "      <td>0</td>\n",
              "      <td>0</td>\n",
              "      <td>1</td>\n",
              "      <td>1346976000</td>\n",
              "      <td>Not as Advertised</td>\n",
              "      <td>Product arrived labeled as Jumbo Salted Peanut...</td>\n",
              "    </tr>\n",
              "    <tr>\n",
              "      <th>2</th>\n",
              "      <td>3</td>\n",
              "      <td>B000LQOCH0</td>\n",
              "      <td>ABXLMWJIXXAIN</td>\n",
              "      <td>Natalia Corres \"Natalia Corres\"</td>\n",
              "      <td>1</td>\n",
              "      <td>1</td>\n",
              "      <td>4</td>\n",
              "      <td>1219017600</td>\n",
              "      <td>\"Delight\" says it all</td>\n",
              "      <td>This is a confection that has been around a fe...</td>\n",
              "    </tr>\n",
              "    <tr>\n",
              "      <th>3</th>\n",
              "      <td>4</td>\n",
              "      <td>B000UA0QIQ</td>\n",
              "      <td>A395BORC6FGVXV</td>\n",
              "      <td>Karl</td>\n",
              "      <td>3</td>\n",
              "      <td>3</td>\n",
              "      <td>2</td>\n",
              "      <td>1307923200</td>\n",
              "      <td>Cough Medicine</td>\n",
              "      <td>If you are looking for the secret ingredient i...</td>\n",
              "    </tr>\n",
              "    <tr>\n",
              "      <th>4</th>\n",
              "      <td>5</td>\n",
              "      <td>B006K2ZZ7K</td>\n",
              "      <td>A1UQRSCLF8GW1T</td>\n",
              "      <td>Michael D. Bigham \"M. Wassir\"</td>\n",
              "      <td>0</td>\n",
              "      <td>0</td>\n",
              "      <td>5</td>\n",
              "      <td>1350777600</td>\n",
              "      <td>Great taffy</td>\n",
              "      <td>Great taffy at a great price.  There was a wid...</td>\n",
              "    </tr>\n",
              "  </tbody>\n",
              "</table>\n",
              "</div>\n",
              "      <button class=\"colab-df-convert\" onclick=\"convertToInteractive('df-b76dd623-48f3-485f-ae81-c47f3b1e4091')\"\n",
              "              title=\"Convert this dataframe to an interactive table.\"\n",
              "              style=\"display:none;\">\n",
              "        \n",
              "  <svg xmlns=\"http://www.w3.org/2000/svg\" height=\"24px\"viewBox=\"0 0 24 24\"\n",
              "       width=\"24px\">\n",
              "    <path d=\"M0 0h24v24H0V0z\" fill=\"none\"/>\n",
              "    <path d=\"M18.56 5.44l.94 2.06.94-2.06 2.06-.94-2.06-.94-.94-2.06-.94 2.06-2.06.94zm-11 1L8.5 8.5l.94-2.06 2.06-.94-2.06-.94L8.5 2.5l-.94 2.06-2.06.94zm10 10l.94 2.06.94-2.06 2.06-.94-2.06-.94-.94-2.06-.94 2.06-2.06.94z\"/><path d=\"M17.41 7.96l-1.37-1.37c-.4-.4-.92-.59-1.43-.59-.52 0-1.04.2-1.43.59L10.3 9.45l-7.72 7.72c-.78.78-.78 2.05 0 2.83L4 21.41c.39.39.9.59 1.41.59.51 0 1.02-.2 1.41-.59l7.78-7.78 2.81-2.81c.8-.78.8-2.07 0-2.86zM5.41 20L4 18.59l7.72-7.72 1.47 1.35L5.41 20z\"/>\n",
              "  </svg>\n",
              "      </button>\n",
              "      \n",
              "  <style>\n",
              "    .colab-df-container {\n",
              "      display:flex;\n",
              "      flex-wrap:wrap;\n",
              "      gap: 12px;\n",
              "    }\n",
              "\n",
              "    .colab-df-convert {\n",
              "      background-color: #E8F0FE;\n",
              "      border: none;\n",
              "      border-radius: 50%;\n",
              "      cursor: pointer;\n",
              "      display: none;\n",
              "      fill: #1967D2;\n",
              "      height: 32px;\n",
              "      padding: 0 0 0 0;\n",
              "      width: 32px;\n",
              "    }\n",
              "\n",
              "    .colab-df-convert:hover {\n",
              "      background-color: #E2EBFA;\n",
              "      box-shadow: 0px 1px 2px rgba(60, 64, 67, 0.3), 0px 1px 3px 1px rgba(60, 64, 67, 0.15);\n",
              "      fill: #174EA6;\n",
              "    }\n",
              "\n",
              "    [theme=dark] .colab-df-convert {\n",
              "      background-color: #3B4455;\n",
              "      fill: #D2E3FC;\n",
              "    }\n",
              "\n",
              "    [theme=dark] .colab-df-convert:hover {\n",
              "      background-color: #434B5C;\n",
              "      box-shadow: 0px 1px 3px 1px rgba(0, 0, 0, 0.15);\n",
              "      filter: drop-shadow(0px 1px 2px rgba(0, 0, 0, 0.3));\n",
              "      fill: #FFFFFF;\n",
              "    }\n",
              "  </style>\n",
              "\n",
              "      <script>\n",
              "        const buttonEl =\n",
              "          document.querySelector('#df-b76dd623-48f3-485f-ae81-c47f3b1e4091 button.colab-df-convert');\n",
              "        buttonEl.style.display =\n",
              "          google.colab.kernel.accessAllowed ? 'block' : 'none';\n",
              "\n",
              "        async function convertToInteractive(key) {\n",
              "          const element = document.querySelector('#df-b76dd623-48f3-485f-ae81-c47f3b1e4091');\n",
              "          const dataTable =\n",
              "            await google.colab.kernel.invokeFunction('convertToInteractive',\n",
              "                                                     [key], {});\n",
              "          if (!dataTable) return;\n",
              "\n",
              "          const docLinkHtml = 'Like what you see? Visit the ' +\n",
              "            '<a target=\"_blank\" href=https://colab.research.google.com/notebooks/data_table.ipynb>data table notebook</a>'\n",
              "            + ' to learn more about interactive tables.';\n",
              "          element.innerHTML = '';\n",
              "          dataTable['output_type'] = 'display_data';\n",
              "          await google.colab.output.renderOutput(dataTable, element);\n",
              "          const docLink = document.createElement('div');\n",
              "          docLink.innerHTML = docLinkHtml;\n",
              "          element.appendChild(docLink);\n",
              "        }\n",
              "      </script>\n",
              "    </div>\n",
              "  </div>\n",
              "  "
            ]
          },
          "metadata": {},
          "execution_count": 63
        }
      ],
      "source": [
        "!pip install gdown\n",
        "import pandas as pd\n",
        "import gdown\n",
        "\n",
        "url = 'https://drive.google.com/uc?id=1-WZKE5xHw-3m_SL_PtOgwkzdFROIWqih'\n",
        "output = 'reviews.csv'\n",
        "gdown.download(url, output, quiet=False)\n",
        "\n",
        "raw_df = pd.read_csv('reviews.csv')\n",
        "# We'll start with a small subset of our data to test things out, then we'll add more\n",
        "df = raw_df[raw_df['Score'] > 0][:10000]\n",
        "df.head()"
      ]
    },
    {
      "cell_type": "code",
      "source": [
        "from sklearn.model_selection import train_test_split\n",
        "\n",
        "X_train, X_test, y_train, y_test = train_test_split(df['Text'], df['Score'])"
      ],
      "metadata": {
        "id": "N6P8ae9NPG5a"
      },
      "execution_count": 64,
      "outputs": []
    },
    {
      "cell_type": "code",
      "source": [
        "# X_train[0], y_train[0]"
      ],
      "metadata": {
        "id": "rkb5oOv_Pf8a"
      },
      "execution_count": 65,
      "outputs": []
    },
    {
      "cell_type": "code",
      "source": [
        "# Keras\n",
        "from tensorflow.keras.preprocessing.text import Tokenizer\n",
        "\n",
        "VOCAB_SIZE = 10000\n",
        "\n",
        "tokenizer = Tokenizer(num_words=VOCAB_SIZE)\n",
        "\n",
        "tokenizer.fit_on_texts(X_train)"
      ],
      "metadata": {
        "id": "oHgnWSmuL39X"
      },
      "execution_count": 66,
      "outputs": []
    },
    {
      "cell_type": "code",
      "source": [
        "X_train_enc = tokenizer.texts_to_sequences(X_train)\n",
        "X_test_enc = tokenizer.texts_to_sequences(X_test)\n",
        "\n",
        "print(X_train[0])\n",
        "print(X_train_enc[0])"
      ],
      "metadata": {
        "colab": {
          "base_uri": "https://localhost:8080/"
        },
        "id": "iwthTQZdPud2",
        "outputId": "3b2756fc-00ea-4582-dc33-a23ac6c5ede4"
      },
      "execution_count": 67,
      "outputs": [
        {
          "output_type": "stream",
          "name": "stdout",
          "text": [
            "I have bought several of the Vitality canned dog food products and have found them all to be of good quality. The product looks more like a stew than a processed meat and it smells better. My Labrador is finicky and she appreciates this product better than  most.\n",
            "[18, 97, 1251, 2802, 142, 1651, 9841, 60, 557, 2, 43, 17, 3272, 2802, 12, 259, 1803, 12, 244, 2459, 26, 2, 134, 273, 62, 33, 8, 174, 17, 26, 126, 2, 89, 17, 574, 64, 66, 67, 2571, 15, 12, 9, 829, 2, 89, 231, 2572, 6, 8, 1313, 131, 5, 1346, 7410, 16, 254, 878, 4, 174, 402, 14, 1220, 417, 903, 82, 80, 41, 173, 367, 1580, 7, 140, 2682, 58, 81, 15, 81, 8, 403, 25, 2802]\n"
          ]
        }
      ]
    },
    {
      "cell_type": "code",
      "source": [
        "import numpy as np\n",
        "review_lengths = [len(t) for t in X_train_enc]\n",
        "np.mean(review_lengths)"
      ],
      "metadata": {
        "colab": {
          "base_uri": "https://localhost:8080/"
        },
        "id": "rTdIspZCP6br",
        "outputId": "3995b890-02ad-416c-f7be-0849e7c4b69c"
      },
      "execution_count": 68,
      "outputs": [
        {
          "output_type": "execute_result",
          "data": {
            "text/plain": [
              "77.2016"
            ]
          },
          "metadata": {},
          "execution_count": 68
        }
      ]
    },
    {
      "cell_type": "code",
      "source": [
        "import matplotlib.pyplot as plt\n",
        "\n",
        "plt.hist(review_lengths)"
      ],
      "metadata": {
        "colab": {
          "base_uri": "https://localhost:8080/",
          "height": 355
        },
        "id": "_LrcVt1AQTGj",
        "outputId": "bea20bb4-7d16-4f25-edb9-88c4a30dbf68"
      },
      "execution_count": 69,
      "outputs": [
        {
          "output_type": "execute_result",
          "data": {
            "text/plain": [
              "(array([6.781e+03, 5.940e+02, 8.200e+01, 2.800e+01, 5.000e+00, 6.000e+00,\n",
              "        3.000e+00, 0.000e+00, 0.000e+00, 1.000e+00]),\n",
              " array([   9. ,  154.8,  300.6,  446.4,  592.2,  738. ,  883.8, 1029.6,\n",
              "        1175.4, 1321.2, 1467. ]),\n",
              " <a list of 10 Patch objects>)"
            ]
          },
          "metadata": {},
          "execution_count": 69
        },
        {
          "output_type": "display_data",
          "data": {
            "text/plain": [
              "<Figure size 432x288 with 1 Axes>"
            ],
            "image/png": "[encoded data removed]"
          },
          "metadata": {
            "needs_background": "light"
          }
        }
      ]
    },
    {
      "cell_type": "code",
      "source": [
        "\n",
        "from tensorflow.keras.preprocessing.sequence import pad_sequences\n",
        "\n",
        "MAX_LEN = 100\n",
        "\n",
        "X_train_enc = pad_sequences(X_train_enc, maxlen=MAX_LEN, padding=\"post\")\n",
        "X_test_enc = pad_sequences(X_test_enc, maxlen=MAX_LEN, padding=\"post\")\n",
        "\n",
        "np.mean([len(t) for t in X_train_enc])"
      ],
      "metadata": {
        "colab": {
          "base_uri": "https://localhost:8080/"
        },
        "id": "x_Yd9AlyQfzz",
        "outputId": "a6306893-aa0d-4743-ad3d-24d29211cb9f"
      },
      "execution_count": 70,
      "outputs": [
        {
          "output_type": "execute_result",
          "data": {
            "text/plain": [
              "100.0"
            ]
          },
          "metadata": {},
          "execution_count": 70
        }
      ]
    },
    {
      "cell_type": "code",
      "source": [
        ""
      ],
      "metadata": {
        "id": "tdkBeaP7RdW7"
      },
      "execution_count": 70,
      "outputs": []
    },
    {
      "cell_type": "code",
      "source": [
        "from tensorflow.keras.utils import to_categorical\n",
        "\n",
        "y_train_enc = to_categorical(y_train)\n",
        "\n",
        "print(y_train.iloc[0:10])\n",
        "print(y_train_enc[0:10])"
      ],
      "metadata": {
        "colab": {
          "base_uri": "https://localhost:8080/"
        },
        "id": "lfs7WA1eRpQK",
        "outputId": "cd59e038-fb28-40c4-db96-93677166891e"
      },
      "execution_count": 71,
      "outputs": [
        {
          "output_type": "stream",
          "name": "stdout",
          "text": [
            "1023    5\n",
            "6639    4\n",
            "714     5\n",
            "3896    5\n",
            "3580    5\n",
            "8398    5\n",
            "6096    5\n",
            "320     5\n",
            "9948    5\n",
            "712     5\n",
            "Name: Score, dtype: int64\n",
            "[[0. 0. 0. 0. 0. 1.]\n",
            " [0. 0. 0. 0. 1. 0.]\n",
            " [0. 0. 0. 0. 0. 1.]\n",
            " [0. 0. 0. 0. 0. 1.]\n",
            " [0. 0. 0. 0. 0. 1.]\n",
            " [0. 0. 0. 0. 0. 1.]\n",
            " [0. 0. 0. 0. 0. 1.]\n",
            " [0. 0. 0. 0. 0. 1.]\n",
            " [0. 0. 0. 0. 0. 1.]\n",
            " [0. 0. 0. 0. 0. 1.]]\n"
          ]
        }
      ]
    },
    {
      "cell_type": "code",
      "source": [
        "from tensorflow.keras import Sequential\n",
        "from tensorflow.keras.layers import Embedding, Dense, GlobalMaxPool1D, Conv1D\n",
        "\n",
        "EMBEDDING_DIMENSION = 50\n",
        "\n",
        "model = Sequential()\n",
        "model.add(Embedding(VOCAB_SIZE, EMBEDDING_DIMENSION, input_length=MAX_LEN))\n",
        "model.add(Conv1D(50, 4, 1, activation='relu'))\n",
        "model.add(GlobalMaxPool1D())\n",
        "model.add(Dense(6, activation='softmax'))\n",
        "\n",
        "model.compile(optimizer='adam', loss='categorical_crossentropy', metrics=['accuracy'])\n",
        "\n",
        "model.summary()"
      ],
      "metadata": {
        "colab": {
          "base_uri": "https://localhost:8080/"
        },
        "id": "sepYZCeMSNOH",
        "outputId": "05842cb6-cf80-4d16-b8f7-b8edf7f43745"
      },
      "execution_count": 79,
      "outputs": [
        {
          "output_type": "stream",
          "name": "stdout",
          "text": [
            "Model: \"sequential_10\"\n",
            "_________________________________________________________________\n",
            " Layer (type)                Output Shape              Param #   \n",
            "=================================================================\n",
            " embedding_9 (Embedding)     (None, 100, 50)           500000    \n",
            "                                                                 \n",
            " conv1d_2 (Conv1D)           (None, 97, 50)            10050     \n",
            "                                                                 \n",
            " dropout (Dropout)           (None, 97, 50)            0         \n",
            "                                                                 \n",
            " global_max_pooling1d_5 (Glo  (None, 50)               0         \n",
            " balMaxPooling1D)                                                \n",
            "                                                                 \n",
            " dense_7 (Dense)             (None, 6)                 306       \n",
            "                                                                 \n",
            "=================================================================\n",
            "Total params: 510,356\n",
            "Trainable params: 510,356\n",
            "Non-trainable params: 0\n",
            "_________________________________________________________________\n"
          ]
        }
      ]
    },
    {
      "cell_type": "code",
      "source": [
        "history = model.fit(\n",
        "    X_train_enc,\n",
        "    y_train_enc,\n",
        "    epochs=30,\n",
        "    batch_size=64,\n",
        "    validation_split=0.1,\n",
        ")"
      ],
      "metadata": {
        "colab": {
          "base_uri": "https://localhost:8080/"
        },
        "id": "1RAnkLAPTAYN",
        "outputId": "e6869a36-267e-4806-d85a-7b01edb3d3ac"
      },
      "execution_count": 76,
      "outputs": [
        {
          "output_type": "stream",
          "name": "stdout",
          "text": [
            "Epoch 1/30\n",
            "106/106 [==============================] - 3s 24ms/step - loss: 1.3042 - accuracy: 0.6003 - val_loss: 1.2116 - val_accuracy: 0.5893\n",
            "Epoch 2/30\n",
            "106/106 [==============================] - 2s 22ms/step - loss: 1.0861 - accuracy: 0.6213 - val_loss: 1.0821 - val_accuracy: 0.5893\n",
            "Epoch 3/30\n",
            "106/106 [==============================] - 2s 22ms/step - loss: 0.9251 - accuracy: 0.6556 - val_loss: 0.9540 - val_accuracy: 0.6387\n",
            "Epoch 4/30\n",
            "106/106 [==============================] - 2s 22ms/step - loss: 0.7615 - accuracy: 0.7280 - val_loss: 0.8964 - val_accuracy: 0.6600\n",
            "Epoch 5/30\n",
            "106/106 [==============================] - 2s 23ms/step - loss: 0.6076 - accuracy: 0.7973 - val_loss: 0.8742 - val_accuracy: 0.6720\n",
            "Epoch 6/30\n",
            "106/106 [==============================] - 2s 23ms/step - loss: 0.4637 - accuracy: 0.8624 - val_loss: 0.8734 - val_accuracy: 0.6827\n",
            "Epoch 7/30\n",
            "106/106 [==============================] - 2s 23ms/step - loss: 0.3388 - accuracy: 0.9175 - val_loss: 0.9019 - val_accuracy: 0.6773\n",
            "Epoch 8/30\n",
            "106/106 [==============================] - 2s 23ms/step - loss: 0.2381 - accuracy: 0.9551 - val_loss: 0.9181 - val_accuracy: 0.6773\n",
            "Epoch 9/30\n",
            "106/106 [==============================] - 2s 23ms/step - loss: 0.1627 - accuracy: 0.9791 - val_loss: 0.9623 - val_accuracy: 0.6693\n",
            "Epoch 10/30\n",
            "106/106 [==============================] - 3s 26ms/step - loss: 0.1109 - accuracy: 0.9905 - val_loss: 1.0046 - val_accuracy: 0.6747\n",
            "Epoch 11/30\n",
            "106/106 [==============================] - 5s 44ms/step - loss: 0.0756 - accuracy: 0.9947 - val_loss: 1.0439 - val_accuracy: 0.6733\n",
            "Epoch 12/30\n",
            "106/106 [==============================] - 5s 42ms/step - loss: 0.0531 - accuracy: 0.9978 - val_loss: 1.0770 - val_accuracy: 0.6720\n",
            "Epoch 13/30\n",
            "106/106 [==============================] - 2s 22ms/step - loss: 0.0384 - accuracy: 0.9985 - val_loss: 1.1227 - val_accuracy: 0.6693\n",
            "Epoch 14/30\n",
            "106/106 [==============================] - 2s 22ms/step - loss: 0.0292 - accuracy: 0.9990 - val_loss: 1.1569 - val_accuracy: 0.6760\n",
            "Epoch 15/30\n",
            "106/106 [==============================] - 2s 22ms/step - loss: 0.0225 - accuracy: 0.9987 - val_loss: 1.1869 - val_accuracy: 0.6733\n",
            "Epoch 16/30\n",
            "106/106 [==============================] - 2s 22ms/step - loss: 0.0187 - accuracy: 0.9987 - val_loss: 1.2216 - val_accuracy: 0.6760\n",
            "Epoch 17/30\n",
            "106/106 [==============================] - 2s 22ms/step - loss: 0.0152 - accuracy: 0.9988 - val_loss: 1.2490 - val_accuracy: 0.6760\n",
            "Epoch 18/30\n",
            "106/106 [==============================] - 2s 22ms/step - loss: 0.0132 - accuracy: 0.9987 - val_loss: 1.2756 - val_accuracy: 0.6733\n",
            "Epoch 19/30\n",
            "106/106 [==============================] - 2s 22ms/step - loss: 0.0111 - accuracy: 0.9988 - val_loss: 1.3087 - val_accuracy: 0.6747\n",
            "Epoch 20/30\n",
            "106/106 [==============================] - 2s 22ms/step - loss: 0.0094 - accuracy: 0.9990 - val_loss: 1.3211 - val_accuracy: 0.6800\n",
            "Epoch 21/30\n",
            "106/106 [==============================] - 2s 22ms/step - loss: 0.0095 - accuracy: 0.9988 - val_loss: 1.3550 - val_accuracy: 0.6733\n",
            "Epoch 22/30\n",
            "106/106 [==============================] - 2s 22ms/step - loss: 0.0081 - accuracy: 0.9990 - val_loss: 1.3652 - val_accuracy: 0.6733\n",
            "Epoch 23/30\n",
            "106/106 [==============================] - 2s 22ms/step - loss: 0.0070 - accuracy: 0.9991 - val_loss: 1.3922 - val_accuracy: 0.6733\n",
            "Epoch 24/30\n",
            "106/106 [==============================] - 2s 22ms/step - loss: 0.0071 - accuracy: 0.9990 - val_loss: 1.4048 - val_accuracy: 0.6760\n",
            "Epoch 25/30\n",
            "106/106 [==============================] - 2s 22ms/step - loss: 0.0069 - accuracy: 0.9987 - val_loss: 1.4247 - val_accuracy: 0.6773\n",
            "Epoch 26/30\n",
            "106/106 [==============================] - 2s 22ms/step - loss: 0.0059 - accuracy: 0.9990 - val_loss: 1.4209 - val_accuracy: 0.6733\n",
            "Epoch 27/30\n",
            "106/106 [==============================] - 2s 22ms/step - loss: 0.0085 - accuracy: 0.9987 - val_loss: 1.4505 - val_accuracy: 0.6747\n",
            "Epoch 28/30\n",
            "106/106 [==============================] - 2s 23ms/step - loss: 0.0054 - accuracy: 0.9990 - val_loss: 1.4659 - val_accuracy: 0.6773\n",
            "Epoch 29/30\n",
            "106/106 [==============================] - 2s 22ms/step - loss: 0.0056 - accuracy: 0.9988 - val_loss: 1.4916 - val_accuracy: 0.6773\n",
            "Epoch 30/30\n",
            "106/106 [==============================] - 2s 23ms/step - loss: 0.0050 - accuracy: 0.9988 - val_loss: 1.4931 - val_accuracy: 0.6747\n"
          ]
        }
      ]
    },
    {
      "cell_type": "code",
      "source": [
        "plt.plot(history.history['loss'])\n",
        "plt.plot(history.history['val_loss'])\n",
        "plt.legend(['train', 'validation'])\n",
        "plt.show()"
      ],
      "metadata": {
        "colab": {
          "base_uri": "https://localhost:8080/",
          "height": 265
        },
        "id": "jLC8FRpuZC8D",
        "outputId": "25ea8913-32ae-4b7e-9772-fc8d51315e61"
      },
      "execution_count": 78,
      "outputs": [
        {
          "output_type": "display_data",
          "data": {
            "text/plain": [
              "<Figure size 432x288 with 1 Axes>"
            ],
            "image/png": "[encoded data removed]"
          },
          "metadata": {
            "needs_background": "light"
          }
        }
      ]
    },
    {
      "cell_type": "code",
      "source": [
        "from tensorflow.keras import Sequential\n",
        "from tensorflow.keras.layers import Embedding, Dense, GlobalMaxPool1D, Conv1D, Dropout\n",
        "\n",
        "EMBEDDING_DIMENSION = 50\n",
        "\n",
        "model = Sequential()\n",
        "model.add(Embedding(VOCAB_SIZE, EMBEDDING_DIMENSION, input_length=MAX_LEN))\n",
        "model.add(Conv1D(50, 4, 1, activation='relu'))\n",
        "model.add(Dropout(0.5))\n",
        "model.add(GlobalMaxPool1D())\n",
        "model.add(Dense(6, activation='softmax'))\n",
        "\n",
        "model.compile(optimizer='adam', loss='categorical_crossentropy', metrics=['accuracy'])\n",
        "\n",
        "model.summary()"
      ],
      "metadata": {
        "colab": {
          "base_uri": "https://localhost:8080/"
        },
        "id": "MXkZdbSHarRA",
        "outputId": "b4071382-85ed-4082-e4b4-9f2851f12e9d"
      },
      "execution_count": 80,
      "outputs": [
        {
          "output_type": "stream",
          "name": "stdout",
          "text": [
            "Model: \"sequential_11\"\n",
            "_________________________________________________________________\n",
            " Layer (type)                Output Shape              Param #   \n",
            "=================================================================\n",
            " embedding_10 (Embedding)    (None, 100, 50)           500000    \n",
            "                                                                 \n",
            " conv1d_3 (Conv1D)           (None, 97, 50)            10050     \n",
            "                                                                 \n",
            " dropout_1 (Dropout)         (None, 97, 50)            0         \n",
            "                                                                 \n",
            " global_max_pooling1d_6 (Glo  (None, 50)               0         \n",
            " balMaxPooling1D)                                                \n",
            "                                                                 \n",
            " dense_8 (Dense)             (None, 6)                 306       \n",
            "                                                                 \n",
            "=================================================================\n",
            "Total params: 510,356\n",
            "Trainable params: 510,356\n",
            "Non-trainable params: 0\n",
            "_________________________________________________________________\n"
          ]
        }
      ]
    },
    {
      "cell_type": "code",
      "source": [
        "history = model.fit(\n",
        "    X_train_enc,\n",
        "    y_train_enc,\n",
        "    epochs=30,\n",
        "    batch_size=64,\n",
        "    validation_split=0.1,\n",
        ")"
      ],
      "metadata": {
        "colab": {
          "base_uri": "https://localhost:8080/"
        },
        "id": "AWg8izxVewZ7",
        "outputId": "6735e559-c309-4786-ddb2-f36f9b696a95"
      },
      "execution_count": 81,
      "outputs": [
        {
          "output_type": "stream",
          "name": "stdout",
          "text": [
            "Epoch 1/30\n",
            "106/106 [==============================] - 5s 34ms/step - loss: 1.3053 - accuracy: 0.5849 - val_loss: 1.3264 - val_accuracy: 0.5893\n",
            "Epoch 2/30\n",
            "106/106 [==============================] - 3s 26ms/step - loss: 1.1008 - accuracy: 0.6216 - val_loss: 1.2120 - val_accuracy: 0.5973\n",
            "Epoch 3/30\n",
            "106/106 [==============================] - 3s 26ms/step - loss: 0.9628 - accuracy: 0.6422 - val_loss: 1.1070 - val_accuracy: 0.6267\n",
            "Epoch 4/30\n",
            "106/106 [==============================] - 3s 26ms/step - loss: 0.8310 - accuracy: 0.6969 - val_loss: 1.0442 - val_accuracy: 0.6587\n",
            "Epoch 5/30\n",
            "106/106 [==============================] - 3s 33ms/step - loss: 0.7092 - accuracy: 0.7479 - val_loss: 0.9909 - val_accuracy: 0.6680\n",
            "Epoch 6/30\n",
            "106/106 [==============================] - 3s 32ms/step - loss: 0.5903 - accuracy: 0.7948 - val_loss: 0.9505 - val_accuracy: 0.6720\n",
            "Epoch 7/30\n",
            "106/106 [==============================] - 3s 26ms/step - loss: 0.4773 - accuracy: 0.8416 - val_loss: 0.9351 - val_accuracy: 0.6720\n",
            "Epoch 8/30\n",
            "106/106 [==============================] - 3s 26ms/step - loss: 0.3808 - accuracy: 0.8850 - val_loss: 0.9324 - val_accuracy: 0.6693\n",
            "Epoch 9/30\n",
            "106/106 [==============================] - 3s 27ms/step - loss: 0.2983 - accuracy: 0.9200 - val_loss: 0.9486 - val_accuracy: 0.6640\n",
            "Epoch 10/30\n",
            "106/106 [==============================] - 3s 26ms/step - loss: 0.2313 - accuracy: 0.9461 - val_loss: 0.9634 - val_accuracy: 0.6627\n",
            "Epoch 11/30\n",
            "106/106 [==============================] - 3s 26ms/step - loss: 0.1749 - accuracy: 0.9628 - val_loss: 0.9924 - val_accuracy: 0.6600\n",
            "Epoch 12/30\n",
            "106/106 [==============================] - 3s 26ms/step - loss: 0.1365 - accuracy: 0.9727 - val_loss: 1.0211 - val_accuracy: 0.6347\n",
            "Epoch 13/30\n",
            "106/106 [==============================] - 3s 26ms/step - loss: 0.1072 - accuracy: 0.9800 - val_loss: 1.0428 - val_accuracy: 0.6373\n",
            "Epoch 14/30\n",
            "106/106 [==============================] - 3s 26ms/step - loss: 0.0804 - accuracy: 0.9874 - val_loss: 1.0667 - val_accuracy: 0.6360\n",
            "Epoch 15/30\n",
            "106/106 [==============================] - 3s 26ms/step - loss: 0.0630 - accuracy: 0.9919 - val_loss: 1.0831 - val_accuracy: 0.6360\n",
            "Epoch 16/30\n",
            "106/106 [==============================] - 3s 26ms/step - loss: 0.0512 - accuracy: 0.9932 - val_loss: 1.1124 - val_accuracy: 0.6240\n",
            "Epoch 17/30\n",
            "106/106 [==============================] - 3s 29ms/step - loss: 0.0431 - accuracy: 0.9951 - val_loss: 1.1529 - val_accuracy: 0.6253\n",
            "Epoch 18/30\n",
            "106/106 [==============================] - 4s 36ms/step - loss: 0.0327 - accuracy: 0.9978 - val_loss: 1.1752 - val_accuracy: 0.6253\n",
            "Epoch 19/30\n",
            "106/106 [==============================] - 3s 26ms/step - loss: 0.0286 - accuracy: 0.9966 - val_loss: 1.2007 - val_accuracy: 0.6120\n",
            "Epoch 20/30\n",
            "106/106 [==============================] - 3s 26ms/step - loss: 0.0245 - accuracy: 0.9976 - val_loss: 1.2245 - val_accuracy: 0.6253\n",
            "Epoch 21/30\n",
            "106/106 [==============================] - 3s 26ms/step - loss: 0.0226 - accuracy: 0.9973 - val_loss: 1.2646 - val_accuracy: 0.6173\n",
            "Epoch 22/30\n",
            "106/106 [==============================] - 3s 27ms/step - loss: 0.0183 - accuracy: 0.9979 - val_loss: 1.2871 - val_accuracy: 0.6040\n",
            "Epoch 23/30\n",
            "106/106 [==============================] - 6s 55ms/step - loss: 0.0167 - accuracy: 0.9985 - val_loss: 1.2933 - val_accuracy: 0.6107\n",
            "Epoch 24/30\n",
            "106/106 [==============================] - 6s 57ms/step - loss: 0.0153 - accuracy: 0.9979 - val_loss: 1.3161 - val_accuracy: 0.6093\n",
            "Epoch 25/30\n",
            "106/106 [==============================] - 6s 54ms/step - loss: 0.0137 - accuracy: 0.9984 - val_loss: 1.3346 - val_accuracy: 0.6093\n",
            "Epoch 26/30\n",
            "106/106 [==============================] - 5s 46ms/step - loss: 0.0123 - accuracy: 0.9985 - val_loss: 1.3427 - val_accuracy: 0.6120\n",
            "Epoch 27/30\n",
            "106/106 [==============================] - 4s 34ms/step - loss: 0.0127 - accuracy: 0.9985 - val_loss: 1.3689 - val_accuracy: 0.6053\n",
            "Epoch 28/30\n",
            "106/106 [==============================] - 3s 26ms/step - loss: 0.0100 - accuracy: 0.9984 - val_loss: 1.3927 - val_accuracy: 0.6240\n",
            "Epoch 29/30\n",
            "106/106 [==============================] - 3s 26ms/step - loss: 0.0109 - accuracy: 0.9990 - val_loss: 1.4132 - val_accuracy: 0.6147\n",
            "Epoch 30/30\n",
            "106/106 [==============================] - 3s 29ms/step - loss: 0.0119 - accuracy: 0.9981 - val_loss: 1.4296 - val_accuracy: 0.6187\n"
          ]
        }
      ]
    },
    {
      "cell_type": "code",
      "source": [
        "plt.plot(history.history['loss'])\n",
        "plt.plot(history.history['val_loss'])\n",
        "plt.legend(['train', 'validation'])\n",
        "plt.show()"
      ],
      "metadata": {
        "colab": {
          "base_uri": "https://localhost:8080/",
          "height": 265
        },
        "id": "1APjfWlSeySw",
        "outputId": "ece36039-42c7-4ea1-d7ad-bb1df5b0c8f8"
      },
      "execution_count": 82,
      "outputs": [
        {
          "output_type": "display_data",
          "data": {
            "text/plain": [
              "<Figure size 432x288 with 1 Axes>"
            ],
            "image/png": "[encoded data removed]"
          },
          "metadata": {
            "needs_background": "light"
          }
        }
      ]
    },
    {
      "cell_type": "markdown",
      "source": [
        "# Now we solve all our problems with more data"
      ],
      "metadata": {
        "id": "6m53Q8KwfEX2"
      }
    },
    {
      "cell_type": "code",
      "source": [
        "X_train, X_test, y_train, y_test = train_test_split(raw_df['Text'], raw_df['Score'])\n",
        "VOCAB_SIZE = 10000\n",
        "\n",
        "tokenizer = Tokenizer(num_words=VOCAB_SIZE)\n",
        "\n",
        "tokenizer.fit_on_texts(X_train)\n",
        "\n",
        "X_train_enc = tokenizer.texts_to_sequences(X_train)\n",
        "X_test_enc = tokenizer.texts_to_sequences(X_test)\n",
        "\n",
        "\n",
        "X_train_enc = pad_sequences(X_train_enc, maxlen=MAX_LEN, padding=\"post\")\n",
        "X_test_enc = pad_sequences(X_test_enc, maxlen=MAX_LEN, padding=\"post\")\n",
        "\n",
        "np.mean([len(t) for t in X_train_enc])\n",
        "\n",
        "y_train_enc = to_categorical(y_train)\n",
        "y_test_enc = to_categorical(y_test)\n",
        "print(y_train.iloc[0:10])\n",
        "print(y_train_enc[0:10])"
      ],
      "metadata": {
        "colab": {
          "base_uri": "https://localhost:8080/"
        },
        "id": "Zf1qvaZoe-ha",
        "outputId": "61144dd1-7a2d-4932-c504-fb6e80d31999"
      },
      "execution_count": 88,
      "outputs": [
        {
          "output_type": "stream",
          "name": "stdout",
          "text": [
            "241824    5\n",
            "174241    5\n",
            "48535     4\n",
            "51859     5\n",
            "228179    4\n",
            "423417    4\n",
            "37458     1\n",
            "292259    5\n",
            "318935    3\n",
            "37215     5\n",
            "Name: Score, dtype: int64\n",
            "[[0. 0. 0. 0. 0. 1.]\n",
            " [0. 0. 0. 0. 0. 1.]\n",
            " [0. 0. 0. 0. 1. 0.]\n",
            " [0. 0. 0. 0. 0. 1.]\n",
            " [0. 0. 0. 0. 1. 0.]\n",
            " [0. 0. 0. 0. 1. 0.]\n",
            " [0. 1. 0. 0. 0. 0.]\n",
            " [0. 0. 0. 0. 0. 1.]\n",
            " [0. 0. 0. 1. 0. 0.]\n",
            " [0. 0. 0. 0. 0. 1.]]\n"
          ]
        }
      ]
    },
    {
      "cell_type": "code",
      "source": [
        "EMBEDDING_DIMENSION = 50\n",
        "\n",
        "model = Sequential()\n",
        "model.add(Embedding(VOCAB_SIZE, EMBEDDING_DIMENSION, input_length=MAX_LEN))\n",
        "model.add(Conv1D(50, 4, 1, activation='relu'))\n",
        "model.add(Dropout(0.5))\n",
        "model.add(GlobalMaxPool1D())\n",
        "model.add(Dense(6, activation='softmax'))\n",
        "\n",
        "model.compile(optimizer='adam', loss='categorical_crossentropy', metrics=['accuracy'])\n",
        "\n",
        "model.summary()"
      ],
      "metadata": {
        "colab": {
          "base_uri": "https://localhost:8080/"
        },
        "id": "26sBgMqpfqSS",
        "outputId": "feb51125-a31c-40db-98a5-51448220b9fe"
      },
      "execution_count": 89,
      "outputs": [
        {
          "output_type": "stream",
          "name": "stdout",
          "text": [
            "Model: \"sequential_13\"\n",
            "_________________________________________________________________\n",
            " Layer (type)                Output Shape              Param #   \n",
            "=================================================================\n",
            " embedding_12 (Embedding)    (None, 100, 50)           500000    \n",
            "                                                                 \n",
            " conv1d_5 (Conv1D)           (None, 97, 50)            10050     \n",
            "                                                                 \n",
            " dropout_3 (Dropout)         (None, 97, 50)            0         \n",
            "                                                                 \n",
            " global_max_pooling1d_8 (Glo  (None, 50)               0         \n",
            " balMaxPooling1D)                                                \n",
            "                                                                 \n",
            " dense_10 (Dense)            (None, 6)                 306       \n",
            "                                                                 \n",
            "=================================================================\n",
            "Total params: 510,356\n",
            "Trainable params: 510,356\n",
            "Non-trainable params: 0\n",
            "_________________________________________________________________\n"
          ]
        }
      ]
    },
    {
      "cell_type": "code",
      "source": [
        "from tensorflow.keras.callbacks import ModelCheckpoint\n",
        "\n",
        "mc = ModelCheckpoint('my_min_loss_model.h5', monitor='val_loss', verbos=1, save_best_only=True, mode='min')\n",
        "\n",
        "history = model.fit(\n",
        "    X_train_enc,\n",
        "    y_train_enc,\n",
        "    epochs=10,\n",
        "    batch_size=4096, # powers of 2\n",
        "    validation_split=0.1,\n",
        "    callbacks = [mc]\n",
        ")"
      ],
      "metadata": {
        "colab": {
          "base_uri": "https://localhost:8080/"
        },
        "id": "A_kJJ86ffxQJ",
        "outputId": "cd12da7f-93ce-43dd-85b3-caabfa15ef1d"
      },
      "execution_count": 92,
      "outputs": [
        {
          "output_type": "stream",
          "name": "stdout",
          "text": [
            "Epoch 1/2\n",
            "94/94 [==============================] - 102s 1s/step - loss: 0.8227 - accuracy: 0.7009 - val_loss: 0.9169 - val_accuracy: 0.7153\n",
            "Epoch 2/2\n",
            "94/94 [==============================] - 99s 1s/step - loss: 0.7401 - accuracy: 0.7261 - val_loss: 0.8573 - val_accuracy: 0.7327\n"
          ]
        }
      ]
    },
    {
      "cell_type": "code",
      "source": [
        "plt.plot(history.history['loss'])\n",
        "plt.plot(history.history['val_loss'])\n",
        "plt.legend(['train', 'validation'])\n",
        "plt.show()"
      ],
      "metadata": {
        "colab": {
          "base_uri": "https://localhost:8080/",
          "height": 269
        },
        "id": "hKdPlhH_f0R3",
        "outputId": "b79401c6-3040-4885-fdb2-322dd3b01cbe"
      },
      "execution_count": 93,
      "outputs": [
        {
          "output_type": "display_data",
          "data": {
            "text/plain": [
              "<Figure size 432x288 with 1 Axes>"
            ],
            "image/png": "[encoded data removed]"
          },
          "metadata": {
            "needs_background": "light"
          }
        }
      ]
    },
    {
      "cell_type": "code",
      "source": [
        "model.evaluate(X_test_enc, y_test_enc)"
      ],
      "metadata": {
        "colab": {
          "base_uri": "https://localhost:8080/"
        },
        "id": "NxvcUXoliFlk",
        "outputId": "c024f705-c2ea-439f-c237-971584ba5eb4"
      },
      "execution_count": 94,
      "outputs": [
        {
          "output_type": "stream",
          "name": "stdout",
          "text": [
            "4442/4442 [==============================] - 15s 3ms/step - loss: 0.8606 - accuracy: 0.7313\n"
          ]
        },
        {
          "output_type": "execute_result",
          "data": {
            "text/plain": [
              "[0.8606002330780029, 0.7313143014907837]"
            ]
          },
          "metadata": {},
          "execution_count": 94
        }
      ]
    },
    {
      "cell_type": "code",
      "source": [
        "plt.plot(history.history['accuracy'])\n",
        "plt.plot(history.history['val_accuracy'])\n",
        "plt.legend(['train', 'validation'])\n",
        "plt.show()"
      ],
      "metadata": {
        "colab": {
          "base_uri": "https://localhost:8080/",
          "height": 265
        },
        "id": "j0Nf3Crfgddj",
        "outputId": "746a68a0-5cd2-4cae-91b9-2ff56a879f6a"
      },
      "execution_count": 95,
      "outputs": [
        {
          "output_type": "display_data",
          "data": {
            "text/plain": [
              "<Figure size 432x288 with 1 Axes>"
            ],
            "image/png": "[encoded data removed]"
          },
          "metadata": {
            "needs_background": "light"
          }
        }
      ]
    },
    {
      "cell_type": "code",
      "source": [
        ""
      ],
      "metadata": {
        "id": "TWmePy5iid9Q"
      },
      "execution_count": null,
      "outputs": []
    }
  ]
}